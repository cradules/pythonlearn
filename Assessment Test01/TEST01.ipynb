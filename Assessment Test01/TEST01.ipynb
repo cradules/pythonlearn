#%% md
# Objects and Data Structures Assessment Test
# %% md
## Test your knowledge. 

** Answer the following questions **
#%% md
Write a brief description of all the following Object Types and Data Structures we've learned about: 
#%% md
Numbers:

Strings:

Lists:

Tuples:

Dictionaries:

#%% md
## Numbers

Write an equation that uses multiplication, division, an exponent, addition, and subtraction that is equal to 100.25.

Hint: This is just to test your memory of the basic arithmetic commands, work backwards from 100.25
#%%

#%% md
Answer these 3 questions without typing code. Then type code to check your answer.

    What is the value of the expression 4 * (6 + 5)
    
    What is the value of the expression 4 * 6 + 5 
    
    What is the value of the expression 4 + 6 * 5 
#%%

#%% md
What is the *type* of the result of the expression 3 + 1.5 + 4?<br><br>
#%% md
What would you use to find a number’s square root, as well as its square? 
#%%
# Square root:

#%%
# Square:

#%% md
## Strings
#%% md
Given the string 'hello' give an index command that returns 'e'. Enter your code in the cell below:
#%%
s = 'hello'
# Print out 'e' using indexing


#%% md
Reverse the string 'hello' using slicing:
#%%
s ='hello'
# Reverse the string using slicing


#%% md
Given the string hello, give two methods of producing the letter 'o' using indexing.
#%%
s ='hello'
# Print out the 'o'

# Method 1:


#%%
# Method 2:


#%% md
## Lists
#%% md
Build this list [0,0,0] two separate ways.
#%%
# Method 1:

#%%
# Method 2:

#%% md
Reassign 'hello' in this nested list to say 'goodbye' instead:
#%%
list3 = [1,2,[3,4,'hello']]


#%% md
Sort the list below:
#%%
list4 = [5,3,4,6,1]


#%% md
## Dictionaries
#%% md
Using keys and indexing, grab the 'hello' from the following dictionaries:
#%%
d = {'simple_key':'hello'}
# Grab 'hello'

#%%
d = {'k1':{'k2':'hello'}}
# Grab 'hello'

#%%
# Getting a little tricker
d = {'k1':[{'nest_key':['this is deep',['hello']]}]}

#Grab hello

#%%
# This will be hard and annoying!
d = {'k1':[1,2,{'k2':['this is tricky',{'tough':[1,2,['hello']]}]}]}
#%% md
Can you sort a dictionary? Why or why not?<br><br>
#%% md
## Tuples
#%% md
What is the major difference between tuples and lists?<br><br>
#%% md
How do you create a tuple?<br><br>
#%% md
## Sets 
#%% md
What is unique about a set?<br><br>
#%% md
Use a set to find the unique values of the list below:
#%%
list5 = [1,2,2,33,4,4,11,22,3,3,2]



#%% md
## Booleans
#%% md
For the following quiz questions, we will get a preview of comparison operators. In the table below, a=3 and b=4.

<table class="table table-bordered">
<tr>
<th style="width:10%">Operator</th><th style="width:45%">Description</th><th>Example</th>
</tr>
<tr>
<td>==</td>
<td>If the values of two operands are equal, then the condition becomes true.</td>
<td> (a == b) is not true.</td>
</tr>
<tr>
<td>!=</td>
<td>If values of two operands are not equal, then condition becomes true.</td>
<td> (a != b) is true.</td>
</tr>
<tr>
<td>&gt;</td>
<td>If the value of left operand is greater than the value of right operand, then condition becomes true.</td>
<td> (a &gt; b) is not true.</td>
</tr>
<tr>
<td>&lt;</td>
<td>If the value of left operand is less than the value of right operand, then condition becomes true.</td>
<td> (a &lt; b) is true.</td>
</tr>
<tr>
<td>&gt;=</td>
<td>If the value of left operand is greater than or equal to the value of right operand, then condition becomes true.</td>
<td> (a &gt;= b) is not true. </td>
</tr>
<tr>
<td>&lt;=</td>
<td>If the value of left operand is less than or equal to the value of right operand, then condition becomes true.</td>
<td> (a &lt;= b) is true. </td>
</tr>
</table>
#%% md
What will be the resulting Boolean of the following pieces of code (answer fist then check by typing it in!)
#%%
# Answer before running cell
2 > 3
#%%
# Answer before running cell
3 <= 2
#%%
# Answer before running cell
3 == 2.0
#%%
# Answer before running cell
3.0 == 3
#%%
# Answer before running cell
4**0.5 != 2
#%% md
Final Question: What is the boolean output of the cell block below?
#%%
# two nested lists
l_one = [1,2,[3,4]]
l_two = [1,2,{'k1':4}]

# True or False?
l_one[2][0] >= l_two[2]['k1']
#%% md
## Great Job on your first assessment! 